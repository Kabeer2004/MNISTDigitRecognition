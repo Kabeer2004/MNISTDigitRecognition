{
 "cells": [
  {
   "cell_type": "code",
   "execution_count": 1,
   "id": "858b39e3",
   "metadata": {
    "_cell_guid": "b1076dfc-b9ad-4769-8c92-a6c4dae69d19",
    "_uuid": "8f2839f25d086af736a60e9eeb907d3b93b6e0e5",
    "execution": {
     "iopub.execute_input": "2023-09-09T20:46:06.265743Z",
     "iopub.status.busy": "2023-09-09T20:46:06.265134Z",
     "iopub.status.idle": "2023-09-09T20:46:06.759960Z",
     "shell.execute_reply": "2023-09-09T20:46:06.758486Z"
    },
    "papermill": {
     "duration": 0.511914,
     "end_time": "2023-09-09T20:46:06.762858",
     "exception": false,
     "start_time": "2023-09-09T20:46:06.250944",
     "status": "completed"
    },
    "tags": []
   },
   "outputs": [
    {
     "name": "stdout",
     "output_type": "stream",
     "text": [
      "/kaggle/input/digit-recognizer/sample_submission.csv\n",
      "/kaggle/input/digit-recognizer/train.csv\n",
      "/kaggle/input/digit-recognizer/test.csv\n"
     ]
    }
   ],
   "source": [
    "# This Python 3 environment comes with many helpful analytics libraries installed\n",
    "# It is defined by the kaggle/python Docker image: https://github.com/kaggle/docker-python\n",
    "# For example, here's several helpful packages to load\n",
    "\n",
    "import numpy as np # linear algebra\n",
    "import pandas as pd # data processing, CSV file I/O (e.g. pd.read_csv)\n",
    "\n",
    "# Input data files are available in the read-only \"../input/\" directory\n",
    "# For example, running this (by clicking run or pressing Shift+Enter) will list all files under the input directory\n",
    "\n",
    "import os\n",
    "for dirname, _, filenames in os.walk('/kaggle/input'):\n",
    "    for filename in filenames:\n",
    "        print(os.path.join(dirname, filename))\n",
    "\n",
    "# You can write up to 20GB to the current directory (/kaggle/working/) that gets preserved as output when you create a version using \"Save & Run All\" \n",
    "# You can also write temporary files to /kaggle/temp/, but they won't be saved outside of the current session"
   ]
  },
  {
   "cell_type": "code",
   "execution_count": 2,
   "id": "edaf4192",
   "metadata": {
    "execution": {
     "iopub.execute_input": "2023-09-09T20:46:06.787058Z",
     "iopub.status.busy": "2023-09-09T20:46:06.785545Z",
     "iopub.status.idle": "2023-09-09T20:46:17.493880Z",
     "shell.execute_reply": "2023-09-09T20:46:17.492443Z"
    },
    "papermill": {
     "duration": 10.723799,
     "end_time": "2023-09-09T20:46:17.497261",
     "exception": false,
     "start_time": "2023-09-09T20:46:06.773462",
     "status": "completed"
    },
    "tags": []
   },
   "outputs": [],
   "source": [
    "from tensorflow import keras\n",
    "from keras.datasets import mnist"
   ]
  },
  {
   "cell_type": "code",
   "execution_count": 3,
   "id": "90b1308d",
   "metadata": {
    "execution": {
     "iopub.execute_input": "2023-09-09T20:46:17.522266Z",
     "iopub.status.busy": "2023-09-09T20:46:17.520984Z",
     "iopub.status.idle": "2023-09-09T20:46:18.038044Z",
     "shell.execute_reply": "2023-09-09T20:46:18.036284Z"
    },
    "papermill": {
     "duration": 0.533429,
     "end_time": "2023-09-09T20:46:18.041324",
     "exception": false,
     "start_time": "2023-09-09T20:46:17.507895",
     "status": "completed"
    },
    "tags": []
   },
   "outputs": [
    {
     "name": "stdout",
     "output_type": "stream",
     "text": [
      "Downloading data from https://storage.googleapis.com/tensorflow/tf-keras-datasets/mnist.npz\n",
      "11490434/11490434 [==============================] - 0s 0us/step\n"
     ]
    }
   ],
   "source": [
    "(x_train, y_train), (x_test, y_test) = keras.datasets.mnist.load_data()"
   ]
  },
  {
   "cell_type": "code",
   "execution_count": 4,
   "id": "12806199",
   "metadata": {
    "execution": {
     "iopub.execute_input": "2023-09-09T20:46:18.065611Z",
     "iopub.status.busy": "2023-09-09T20:46:18.065123Z",
     "iopub.status.idle": "2023-09-09T20:46:18.071642Z",
     "shell.execute_reply": "2023-09-09T20:46:18.070139Z"
    },
    "papermill": {
     "duration": 0.022439,
     "end_time": "2023-09-09T20:46:18.074741",
     "exception": false,
     "start_time": "2023-09-09T20:46:18.052302",
     "status": "completed"
    },
    "tags": []
   },
   "outputs": [],
   "source": [
    "import matplotlib.pyplot as plt"
   ]
  },
  {
   "cell_type": "code",
   "execution_count": 5,
   "id": "829dfc98",
   "metadata": {
    "execution": {
     "iopub.execute_input": "2023-09-09T20:46:18.098607Z",
     "iopub.status.busy": "2023-09-09T20:46:18.098152Z",
     "iopub.status.idle": "2023-09-09T20:46:18.105061Z",
     "shell.execute_reply": "2023-09-09T20:46:18.103813Z"
    },
    "papermill": {
     "duration": 0.021739,
     "end_time": "2023-09-09T20:46:18.107567",
     "exception": false,
     "start_time": "2023-09-09T20:46:18.085828",
     "status": "completed"
    },
    "tags": []
   },
   "outputs": [
    {
     "name": "stdout",
     "output_type": "stream",
     "text": [
      "(60000, 28, 28)\n",
      "(10000, 28, 28)\n",
      "(60000,)\n",
      "(10000,)\n"
     ]
    }
   ],
   "source": [
    "print (x_train.shape)\n",
    "print (x_test.shape)\n",
    "print (y_train.shape)\n",
    "print (y_test.shape)"
   ]
  },
  {
   "cell_type": "markdown",
   "id": "cb8d5ca9",
   "metadata": {
    "papermill": {
     "duration": 0.011166,
     "end_time": "2023-09-09T20:46:18.129564",
     "exception": false,
     "start_time": "2023-09-09T20:46:18.118398",
     "status": "completed"
    },
    "tags": []
   },
   "source": [
    "Lets visualize some of the data."
   ]
  },
  {
   "cell_type": "code",
   "execution_count": 6,
   "id": "6652ab25",
   "metadata": {
    "execution": {
     "iopub.execute_input": "2023-09-09T20:46:18.153835Z",
     "iopub.status.busy": "2023-09-09T20:46:18.153297Z",
     "iopub.status.idle": "2023-09-09T20:46:18.495599Z",
     "shell.execute_reply": "2023-09-09T20:46:18.494091Z"
    },
    "papermill": {
     "duration": 0.357884,
     "end_time": "2023-09-09T20:46:18.498492",
     "exception": false,
     "start_time": "2023-09-09T20:46:18.140608",
     "status": "completed"
    },
    "tags": []
   },
   "outputs": [
    {
     "data": {
      "text/plain": [
       "<matplotlib.image.AxesImage at 0x796d481e2b60>"
      ]
     },
     "execution_count": 6,
     "metadata": {},
     "output_type": "execute_result"
    },
    {
     "data": {
      "image/png": "[encoded data removed]",
      "text/plain": [
       "<Figure size 640x480 with 1 Axes>"
      ]
     },
     "metadata": {},
     "output_type": "display_data"
    }
   ],
   "source": [
    "image = x_train[0]\n",
    "plt.imshow(image, cmap=\"gray\")"
   ]
  },
  {
   "cell_type": "markdown",
   "id": "f7787edc",
   "metadata": {
    "papermill": {
     "duration": 0.01088,
     "end_time": "2023-09-09T20:46:18.520780",
     "exception": false,
     "start_time": "2023-09-09T20:46:18.509900",
     "status": "completed"
    },
    "tags": []
   },
   "source": [
    "We need to prepare the data before we can use it with a model. To do this we will\n",
    "- flatten the images into 1D representations instead of 2D \n",
    "- normalize the pixel values since neural nets are better at dealing with floating point numbers in a fixed range\n",
    "- categorically encode the labels given to all the images"
   ]
  },
  {
   "cell_type": "code",
   "execution_count": 7,
   "id": "5b762248",
   "metadata": {
    "execution": {
     "iopub.execute_input": "2023-09-09T20:46:18.546618Z",
     "iopub.status.busy": "2023-09-09T20:46:18.545658Z",
     "iopub.status.idle": "2023-09-09T20:46:18.551247Z",
     "shell.execute_reply": "2023-09-09T20:46:18.549969Z"
    },
    "papermill": {
     "duration": 0.021387,
     "end_time": "2023-09-09T20:46:18.553729",
     "exception": false,
     "start_time": "2023-09-09T20:46:18.532342",
     "status": "completed"
    },
    "tags": []
   },
   "outputs": [],
   "source": [
    "#Reshape (Flattening)\n",
    "x_train = x_train.reshape(60000,784)\n",
    "x_test = x_test.reshape(10000,784)"
   ]
  },
  {
   "cell_type": "code",
   "execution_count": 8,
   "id": "9d7a0a87",
   "metadata": {
    "execution": {
     "iopub.execute_input": "2023-09-09T20:46:18.580035Z",
     "iopub.status.busy": "2023-09-09T20:46:18.578988Z",
     "iopub.status.idle": "2023-09-09T20:46:18.917104Z",
     "shell.execute_reply": "2023-09-09T20:46:18.915781Z"
    },
    "papermill": {
     "duration": 0.354995,
     "end_time": "2023-09-09T20:46:18.920380",
     "exception": false,
     "start_time": "2023-09-09T20:46:18.565385",
     "status": "completed"
    },
    "tags": []
   },
   "outputs": [],
   "source": [
    "#Normalization\n",
    "x_train = x_train/255\n",
    "x_valid = x_test/255"
   ]
  },
  {
   "cell_type": "code",
   "execution_count": 9,
   "id": "d865d9c9",
   "metadata": {
    "execution": {
     "iopub.execute_input": "2023-09-09T20:46:18.945845Z",
     "iopub.status.busy": "2023-09-09T20:46:18.945315Z",
     "iopub.status.idle": "2023-09-09T20:46:18.954364Z",
     "shell.execute_reply": "2023-09-09T20:46:18.953085Z"
    },
    "papermill": {
     "duration": 0.026313,
     "end_time": "2023-09-09T20:46:18.958409",
     "exception": false,
     "start_time": "2023-09-09T20:46:18.932096",
     "status": "completed"
    },
    "tags": []
   },
   "outputs": [],
   "source": [
    "#Categorical Encoding\n",
    "num_classes = 10 #we have 10 output classes: 0,1,2,3,4,5,6,7,8,9\n",
    "y_train = keras.utils.to_categorical(y_train, num_classes)\n",
    "y_test = keras.utils.to_categorical(y_test, num_classes)"
   ]
  },
  {
   "cell_type": "code",
   "execution_count": 10,
   "id": "cae867c8",
   "metadata": {
    "execution": {
     "iopub.execute_input": "2023-09-09T20:46:18.985807Z",
     "iopub.status.busy": "2023-09-09T20:46:18.984536Z",
     "iopub.status.idle": "2023-09-09T20:46:18.990231Z",
     "shell.execute_reply": "2023-09-09T20:46:18.989453Z"
    },
    "papermill": {
     "duration": 0.021339,
     "end_time": "2023-09-09T20:46:18.992653",
     "exception": false,
     "start_time": "2023-09-09T20:46:18.971314",
     "status": "completed"
    },
    "tags": []
   },
   "outputs": [],
   "source": [
    "from keras.models import Sequential\n",
    "from keras.layers import Dense"
   ]
  },
  {
   "cell_type": "markdown",
   "id": "856a04bc",
   "metadata": {
    "papermill": {
     "duration": 0.016246,
     "end_time": "2023-09-09T20:46:19.021756",
     "exception": false,
     "start_time": "2023-09-09T20:46:19.005510",
     "status": "completed"
    },
    "tags": []
   },
   "source": [
    "Lets create the model now.\n",
    "We're gonna have an input layer, some hidden layers and finally the output layer\n",
    "The overall model structure I want to implement is:\n",
    "1. input layer (Dense) (input_shape = 784) (neurons = 512) (activation = relu)\n",
    "2. 2 hidden layers (Dense) (neurons = 512) (activation = relu)\n",
    "3. output layer (Dense) (neurons = 10 = number of output classes) (activation = softmax)"
   ]
  },
  {
   "cell_type": "code",
   "execution_count": 11,
   "id": "5b2e7fa9",
   "metadata": {
    "execution": {
     "iopub.execute_input": "2023-09-09T20:46:19.052926Z",
     "iopub.status.busy": "2023-09-09T20:46:19.051985Z",
     "iopub.status.idle": "2023-09-09T20:46:19.309705Z",
     "shell.execute_reply": "2023-09-09T20:46:19.308316Z"
    },
    "papermill": {
     "duration": 0.275284,
     "end_time": "2023-09-09T20:46:19.313295",
     "exception": false,
     "start_time": "2023-09-09T20:46:19.038011",
     "status": "completed"
    },
    "tags": []
   },
   "outputs": [],
   "source": [
    "model = Sequential()\n",
    "model.add (Dense(512 , input_shape = (784,), activation = \"relu\"))\n",
    "model.add (Dense(512, activation = \"relu\"))\n",
    "model.add (Dense(512, activation = \"relu\"))\n",
    "model.add (Dense(num_classes, activation = \"softmax\"))"
   ]
  },
  {
   "cell_type": "code",
   "execution_count": 12,
   "id": "6cc3426b",
   "metadata": {
    "execution": {
     "iopub.execute_input": "2023-09-09T20:46:19.338387Z",
     "iopub.status.busy": "2023-09-09T20:46:19.337898Z",
     "iopub.status.idle": "2023-09-09T20:46:19.362188Z",
     "shell.execute_reply": "2023-09-09T20:46:19.360851Z"
    },
    "papermill": {
     "duration": 0.040578,
     "end_time": "2023-09-09T20:46:19.365399",
     "exception": false,
     "start_time": "2023-09-09T20:46:19.324821",
     "status": "completed"
    },
    "tags": []
   },
   "outputs": [],
   "source": [
    "model.compile (loss = \"categorical_crossentropy\", optimizer = \"adam\", metrics = ['accuracy'])"
   ]
  },
  {
   "cell_type": "code",
   "execution_count": 13,
   "id": "0cacc9c2",
   "metadata": {
    "execution": {
     "iopub.execute_input": "2023-09-09T20:46:19.392121Z",
     "iopub.status.busy": "2023-09-09T20:46:19.391198Z",
     "iopub.status.idle": "2023-09-09T20:46:19.421198Z",
     "shell.execute_reply": "2023-09-09T20:46:19.419251Z"
    },
    "papermill": {
     "duration": 0.046888,
     "end_time": "2023-09-09T20:46:19.424505",
     "exception": false,
     "start_time": "2023-09-09T20:46:19.377617",
     "status": "completed"
    },
    "tags": []
   },
   "outputs": [
    {
     "name": "stdout",
     "output_type": "stream",
     "text": [
      "Model: \"sequential\"\n",
      "_________________________________________________________________\n",
      " Layer (type)                Output Shape              Param #   \n",
      "=================================================================\n",
      " dense (Dense)               (None, 512)               401920    \n",
      "                                                                 \n",
      " dense_1 (Dense)             (None, 512)               262656    \n",
      "                                                                 \n",
      " dense_2 (Dense)             (None, 512)               262656    \n",
      "                                                                 \n",
      " dense_3 (Dense)             (None, 10)                5130      \n",
      "                                                                 \n",
      "=================================================================\n",
      "Total params: 932,362\n",
      "Trainable params: 932,362\n",
      "Non-trainable params: 0\n",
      "_________________________________________________________________\n"
     ]
    }
   ],
   "source": [
    "model.summary()"
   ]
  },
  {
   "cell_type": "code",
   "execution_count": 14,
   "id": "2ec77e80",
   "metadata": {
    "execution": {
     "iopub.execute_input": "2023-09-09T20:46:19.452647Z",
     "iopub.status.busy": "2023-09-09T20:46:19.452130Z",
     "iopub.status.idle": "2023-09-09T20:48:38.746335Z",
     "shell.execute_reply": "2023-09-09T20:48:38.744897Z"
    },
    "papermill": {
     "duration": 139.312215,
     "end_time": "2023-09-09T20:48:38.749422",
     "exception": false,
     "start_time": "2023-09-09T20:46:19.437207",
     "status": "completed"
    },
    "tags": []
   },
   "outputs": [
    {
     "name": "stdout",
     "output_type": "stream",
     "text": [
      "Epoch 1/5\n",
      "1875/1875 [==============================] - 29s 15ms/step - loss: 0.1947 - accuracy: 0.9406 - val_loss: 15.4057 - val_accuracy: 0.9674\n",
      "Epoch 2/5\n",
      "1875/1875 [==============================] - 27s 15ms/step - loss: 0.0917 - accuracy: 0.9719 - val_loss: 19.5287 - val_accuracy: 0.9680\n",
      "Epoch 3/5\n",
      "1875/1875 [==============================] - 27s 15ms/step - loss: 0.0672 - accuracy: 0.9795 - val_loss: 14.7617 - val_accuracy: 0.9738\n",
      "Epoch 4/5\n",
      "1875/1875 [==============================] - 27s 15ms/step - loss: 0.0521 - accuracy: 0.9840 - val_loss: 17.2363 - val_accuracy: 0.9741\n",
      "Epoch 5/5\n",
      "1875/1875 [==============================] - 27s 15ms/step - loss: 0.0427 - accuracy: 0.9868 - val_loss: 16.2193 - val_accuracy: 0.9792\n"
     ]
    },
    {
     "data": {
      "text/plain": [
       "<keras.callbacks.History at 0x796d280f43d0>"
      ]
     },
     "execution_count": 14,
     "metadata": {},
     "output_type": "execute_result"
    }
   ],
   "source": [
    "model.fit(x_train, y_train, epochs = 5, verbose = 1, validation_data = (x_test, y_test))"
   ]
  },
  {
   "cell_type": "code",
   "execution_count": 15,
   "id": "27848d1a",
   "metadata": {
    "execution": {
     "iopub.execute_input": "2023-09-09T20:48:39.214798Z",
     "iopub.status.busy": "2023-09-09T20:48:39.213769Z",
     "iopub.status.idle": "2023-09-09T20:48:42.145228Z",
     "shell.execute_reply": "2023-09-09T20:48:42.143804Z"
    },
    "papermill": {
     "duration": 3.169644,
     "end_time": "2023-09-09T20:48:42.148424",
     "exception": false,
     "start_time": "2023-09-09T20:48:38.978780",
     "status": "completed"
    },
    "tags": []
   },
   "outputs": [],
   "source": [
    "test = pd.read_csv(\"/kaggle/input/digit-recognizer/test.csv\")"
   ]
  },
  {
   "cell_type": "code",
   "execution_count": 16,
   "id": "89d0d0ec",
   "metadata": {
    "execution": {
     "iopub.execute_input": "2023-09-09T20:48:42.609217Z",
     "iopub.status.busy": "2023-09-09T20:48:42.607523Z",
     "iopub.status.idle": "2023-09-09T20:48:47.163402Z",
     "shell.execute_reply": "2023-09-09T20:48:47.162040Z"
    },
    "papermill": {
     "duration": 4.788905,
     "end_time": "2023-09-09T20:48:47.166726",
     "exception": false,
     "start_time": "2023-09-09T20:48:42.377821",
     "status": "completed"
    },
    "tags": []
   },
   "outputs": [
    {
     "name": "stdout",
     "output_type": "stream",
     "text": [
      "875/875 [==============================] - 4s 4ms/step\n"
     ]
    }
   ],
   "source": [
    "preds = model.predict(test)"
   ]
  },
  {
   "cell_type": "code",
   "execution_count": 17,
   "id": "55931c65",
   "metadata": {
    "execution": {
     "iopub.execute_input": "2023-09-09T20:48:47.644278Z",
     "iopub.status.busy": "2023-09-09T20:48:47.643183Z",
     "iopub.status.idle": "2023-09-09T20:48:47.648656Z",
     "shell.execute_reply": "2023-09-09T20:48:47.647768Z"
    },
    "papermill": {
     "duration": 0.247182,
     "end_time": "2023-09-09T20:48:47.650923",
     "exception": false,
     "start_time": "2023-09-09T20:48:47.403741",
     "status": "completed"
    },
    "tags": []
   },
   "outputs": [],
   "source": [
    "preds = preds.round()"
   ]
  },
  {
   "cell_type": "code",
   "execution_count": 18,
   "id": "36f1bf62",
   "metadata": {
    "execution": {
     "iopub.execute_input": "2023-09-09T20:48:48.131006Z",
     "iopub.status.busy": "2023-09-09T20:48:48.130032Z",
     "iopub.status.idle": "2023-09-09T20:48:48.166764Z",
     "shell.execute_reply": "2023-09-09T20:48:48.165053Z"
    },
    "papermill": {
     "duration": 0.278827,
     "end_time": "2023-09-09T20:48:48.170346",
     "exception": false,
     "start_time": "2023-09-09T20:48:47.891519",
     "status": "completed"
    },
    "tags": []
   },
   "outputs": [],
   "source": [
    "predsnew = []\n",
    "for i in preds:\n",
    "    i = i.tolist()\n",
    "    predsnew.append(i.index(1.0))"
   ]
  },
  {
   "cell_type": "code",
   "execution_count": 19,
   "id": "63545497",
   "metadata": {
    "execution": {
     "iopub.execute_input": "2023-09-09T20:48:48.645818Z",
     "iopub.status.busy": "2023-09-09T20:48:48.645330Z",
     "iopub.status.idle": "2023-09-09T20:48:48.672786Z",
     "shell.execute_reply": "2023-09-09T20:48:48.671480Z"
    },
    "papermill": {
     "duration": 0.268401,
     "end_time": "2023-09-09T20:48:48.675896",
     "exception": false,
     "start_time": "2023-09-09T20:48:48.407495",
     "status": "completed"
    },
    "tags": []
   },
   "outputs": [],
   "source": [
    "output = pd.DataFrame()\n",
    "output[\"ImageId\"] = range(1,28001)\n",
    "output[\"Label\"] = predsnew\n",
    "output = output.set_index(\"ImageId\")"
   ]
  },
  {
   "cell_type": "code",
   "execution_count": 20,
   "id": "250d4bb4",
   "metadata": {
    "execution": {
     "iopub.execute_input": "2023-09-09T20:48:49.150088Z",
     "iopub.status.busy": "2023-09-09T20:48:49.148587Z",
     "iopub.status.idle": "2023-09-09T20:48:49.164840Z",
     "shell.execute_reply": "2023-09-09T20:48:49.163574Z"
    },
    "papermill": {
     "duration": 0.256878,
     "end_time": "2023-09-09T20:48:49.167658",
     "exception": false,
     "start_time": "2023-09-09T20:48:48.910780",
     "status": "completed"
    },
    "tags": []
   },
   "outputs": [
    {
     "data": {
      "text/html": [
       "<div>\n",
       "<style scoped>\n",
       "    .dataframe tbody tr th:only-of-type {\n",
       "        vertical-align: middle;\n",
       "    }\n",
       "\n",
       "    .dataframe tbody tr th {\n",
       "        vertical-align: top;\n",
       "    }\n",
       "\n",
       "    .dataframe thead th {\n",
       "        text-align: right;\n",
       "    }\n",
       "</style>\n",
       "<table border=\"1\" class=\"dataframe\">\n",
       "  <thead>\n",
       "    <tr style=\"text-align: right;\">\n",
       "      <th></th>\n",
       "      <th>Label</th>\n",
       "    </tr>\n",
       "    <tr>\n",
       "      <th>ImageId</th>\n",
       "      <th></th>\n",
       "    </tr>\n",
       "  </thead>\n",
       "  <tbody>\n",
       "    <tr>\n",
       "      <th>1</th>\n",
       "      <td>2</td>\n",
       "    </tr>\n",
       "    <tr>\n",
       "      <th>2</th>\n",
       "      <td>0</td>\n",
       "    </tr>\n",
       "    <tr>\n",
       "      <th>3</th>\n",
       "      <td>9</td>\n",
       "    </tr>\n",
       "    <tr>\n",
       "      <th>4</th>\n",
       "      <td>0</td>\n",
       "    </tr>\n",
       "    <tr>\n",
       "      <th>5</th>\n",
       "      <td>3</td>\n",
       "    </tr>\n",
       "    <tr>\n",
       "      <th>...</th>\n",
       "      <td>...</td>\n",
       "    </tr>\n",
       "    <tr>\n",
       "      <th>27996</th>\n",
       "      <td>9</td>\n",
       "    </tr>\n",
       "    <tr>\n",
       "      <th>27997</th>\n",
       "      <td>7</td>\n",
       "    </tr>\n",
       "    <tr>\n",
       "      <th>27998</th>\n",
       "      <td>3</td>\n",
       "    </tr>\n",
       "    <tr>\n",
       "      <th>27999</th>\n",
       "      <td>9</td>\n",
       "    </tr>\n",
       "    <tr>\n",
       "      <th>28000</th>\n",
       "      <td>2</td>\n",
       "    </tr>\n",
       "  </tbody>\n",
       "</table>\n",
       "<p>28000 rows × 1 columns</p>\n",
       "</div>"
      ],
      "text/plain": [
       "         Label\n",
       "ImageId       \n",
       "1            2\n",
       "2            0\n",
       "3            9\n",
       "4            0\n",
       "5            3\n",
       "...        ...\n",
       "27996        9\n",
       "27997        7\n",
       "27998        3\n",
       "27999        9\n",
       "28000        2\n",
       "\n",
       "[28000 rows x 1 columns]"
      ]
     },
     "execution_count": 20,
     "metadata": {},
     "output_type": "execute_result"
    }
   ],
   "source": [
    "output"
   ]
  },
  {
   "cell_type": "code",
   "execution_count": 21,
   "id": "9578b6f0",
   "metadata": {
    "execution": {
     "iopub.execute_input": "2023-09-09T20:48:49.710455Z",
     "iopub.status.busy": "2023-09-09T20:48:49.708906Z",
     "iopub.status.idle": "2023-09-09T20:48:49.792726Z",
     "shell.execute_reply": "2023-09-09T20:48:49.791301Z"
    },
    "papermill": {
     "duration": 0.394007,
     "end_time": "2023-09-09T20:48:49.796154",
     "exception": false,
     "start_time": "2023-09-09T20:48:49.402147",
     "status": "completed"
    },
    "tags": []
   },
   "outputs": [],
   "source": [
    "#generating output submission for kaggle contest\n",
    "output.to_csv(\"submission.csv\")"
   ]
  },
  {
   "cell_type": "markdown",
   "id": "ab090c92",
   "metadata": {
    "papermill": {
     "duration": 0.236775,
     "end_time": "2023-09-09T20:48:50.274123",
     "exception": false,
     "start_time": "2023-09-09T20:48:50.037348",
     "status": "completed"
    },
    "tags": []
   },
   "source": [
    "Got a 0.98782 public score and ranked 520 on the leaderboard!"
   ]
  }
 ],
 "kernelspec": {
  "display_name": "Python 3",
  "language": "python",
  "name": "python3"
 },
 "language_info": {
  "codemirror_mode": {
   "name": "ipython",
   "version": 3
  },
  "file_extension": ".py",
  "mimetype": "text/x-python",
  "name": "python",
  "nbconvert_exporter": "python",
  "pygments_lexer": "ipython3",
  "version": "3.6.4"
 },
 "metadata": {
  "kernelspec": {
   "display_name": "Python 3",
   "language": "python",
   "name": "python3"
  },
  "language_info": {
   "codemirror_mode": {
    "name": "ipython",
    "version": 3
   },
   "file_extension": ".py",
   "mimetype": "text/x-python",
   "name": "python",
   "nbconvert_exporter": "python",
   "pygments_lexer": "ipython3",
   "version": "3.10.12"
  },
  "papermill": {
   "default_parameters": {},
   "duration": 170.793653,
   "end_time": "2023-09-09T20:48:53.081511",
   "environment_variables": {},
   "exception": null,
   "input_path": "__notebook__.ipynb",
   "output_path": "__notebook__.ipynb",
   "parameters": {},
   "start_time": "2023-09-09T20:46:02.287858",
   "version": "2.4.0"
  }
 },
 "nbformat": 4,
 "nbformat_minor": 5
}
